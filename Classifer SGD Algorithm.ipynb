{
 "cells": [
  {
   "cell_type": "code",
   "execution_count": 1,
   "metadata": {},
   "outputs": [
    {
     "name": "stderr",
     "output_type": "stream",
     "text": [
      "[nltk_data] Downloading package stopwords to C:\\Users\\In Christ\n",
      "[nltk_data]     alone\\AppData\\Roaming\\nltk_data...\n",
      "[nltk_data]   Package stopwords is already up-to-date!\n"
     ]
    }
   ],
   "source": [
    "import numpy as np # linear algebra\n",
    "import pandas as pd \n",
    "import re\n",
    "import nltk\n",
    "nltk.download('stopwords')\n",
    "from nltk.corpus import stopwords\n",
    "from nltk.stem.porter import PorterStemmer\n",
    "from bs4 import BeautifulSoup\n",
    "from autocorrect import Speller\n",
    "from nltk.stem.wordnet import WordNetLemmatizer \n",
    "spell = Speller(lang='en')\n",
    "from nltk.corpus import stopwords \n",
    "import itertools\n",
    "from sklearn.pipeline import Pipeline\n",
    "from sklearn.feature_extraction.text import CountVectorizer, TfidfTransformer\n",
    "from sklearn.linear_model import SGDClassifier\n",
    "from sklearn.feature_selection import SelectKBest, mutual_info_regression,chi2\n",
    "import pickle\n",
    "import pandas as pd \n",
    "import matplotlib.pyplot as plt\n",
    "from sklearn.metrics import roc_curve\n",
    "from sklearn.metrics import roc_auc_score\n",
    "from sklearn.multiclass import OneVsRestClassifier\n",
    "from sklearn.preprocessing import label_binarize\n",
    "from sklearn.metrics import roc_curve, auc\n",
    "\n"
   ]
  },
  {
   "cell_type": "code",
   "execution_count": 5,
   "metadata": {},
   "outputs": [],
   "source": [
    "training_df = pd.read_csv('clean_content 0.1 million sample.csv', encoding= 'iso-8859-1')"
   ]
  },
  {
   "cell_type": "code",
   "execution_count": null,
   "metadata": {},
   "outputs": [],
   "source": [
    "corpus = []\n",
    "s = set(stopwords.words('english'))\n",
    "s.remove('not')\n",
    "print(\"Stopwords length\", len(s))\n",
    "\n",
    "# function to remove the elongated words\n",
    "def remove_elongated(text):\n",
    "    pattern = re.compile(r\"(.)\\1{2,}\")\n",
    "    return pattern.sub(r\"\\1\\1\", text)"
   ]
  },
  {
   "cell_type": "code",
   "execution_count": null,
   "metadata": {},
   "outputs": [],
   "source": [
    "# !pip install tqdm\n",
    "from tqdm._tqdm_notebook import tqdm_notebook\n",
    "tqdm_notebook.pandas(desc=\"Example Desc\")\n",
    "\n",
    "def review_to_words( raw_review ):\n",
    "\n",
    "    lem = WordNetLemmatizer()\n",
    "    # 1. Remove HTML\n",
    "    text = BeautifulSoup(raw_review, 'lxml').get_text() \n",
    "    \n",
    "    # 2. Remove non-letters with regex\n",
    "    words = set(nltk.corpus.words.words())\n",
    "    text = re.sub(\"@[\\w\\d]+\",'', text)\n",
    "    text = re.sub(\"http:[\\w\\:\\/\\.]+\",'', text) # remove url\n",
    "    text=  re.sub('[^a-zA-Z]',' ', text)\n",
    "    text = re.sub('[^[A-Za-z]\\s]','', text)   # any char or letter before a word    \n",
    "    text = re.sub('[^\\w\\s]','', text) # remove whitespace and punctuation \n",
    "    text = text.lower()\n",
    "\n",
    "    text = ''.join(''.join(s)[:2] for _, s in itertools.groupby(text))\n",
    "    \n",
    "    # 3. Convert to lower case, split into individual words\n",
    "    words = text.lower().split()     \n",
    "    \n",
    "    # 4. Create set of stopwords\n",
    "    stops = (stopwords.words(\"english\"))                  \n",
    "   \n",
    "    # 5. Remove stop words\n",
    "    meaningful_words = [w for w in words if not w in stops] \n",
    "    \n",
    "    meaningful_words = [remove_elongated(token) for token in meaningful_words]\n",
    "    \n",
    "   # meaningful_words = [spell(token) for token in meaningful_words]\n",
    "    \n",
    "   # meaningful_words = [token if token not in slang_words else slang_words[token] for token in meaningful_words]\n",
    "    \n",
    "   # meaningful_words = [lem.lemmatize(token) for token in meaningful_words]\n",
    "    \n",
    "    # 6. Join the words back into one string separated by space, \n",
    "    # and return the result.\n",
    "    return( \" \".join( meaningful_words ))   "
   ]
  },
  {
   "cell_type": "code",
   "execution_count": null,
   "metadata": {},
   "outputs": [],
   "source": [
    "training_df['clean_content'] = training_df['content'].progress_apply(review_to_words)\n",
    "training_df.rename(columns = {'clean_review':'review'},inplace = True)\n",
    "training_df['length_content'] = training_df['clean_content'].progress_apply(len)\n",
    "training_df.head()"
   ]
  },
  {
   "cell_type": "code",
   "execution_count": null,
   "metadata": {},
   "outputs": [],
   "source": [
    "import matplotlib.pyplot as plt\n",
    "import seaborn as sns\n",
    "plt.figure(figsize=(10,4))\n",
    "\n",
    "\n",
    "plt.title(\"Data Distribution\")\n",
    "sns.countplot(x='sentiment',data=(training_df))"
   ]
  },
  {
   "cell_type": "code",
   "execution_count": null,
   "metadata": {},
   "outputs": [],
   "source": [
    "training_df['length_content'] = training_df['clean_content'].str.split().apply(len)\n",
    "training_df = training_df.drop(training_df[training_df.length_content < 1].index)\n",
    "training_df"
   ]
  },
  {
   "cell_type": "markdown",
   "metadata": {},
   "source": [
    "training_df.to_csv('clean_content with new filters 86918 rows.csv') "
   ]
  },
  {
   "cell_type": "code",
   "execution_count": null,
   "metadata": {},
   "outputs": [],
   "source": [
    "#pickling preprocessed data \n",
    "\n",
    "#filename = 'clean_content with new filters 22249'\n",
    "#outfile = open(filename,'wb')\n",
    "#pickle.dump(training_df,outfile)\n",
    "#outfile.close()\n",
    "#pickling preprocessed data \n",
    "\n",
    "#filename = 'clean_content with new filters 86916'\n",
    "#outfile = open(filename,'wb')\n",
    "#pickle.dump(training_df,outfile)\n",
    "#outfile.close()"
   ]
  },
  {
   "cell_type": "code",
   "execution_count": null,
   "metadata": {},
   "outputs": [],
   "source": [
    "import pickle\n",
    "infile = open('clean_content with new filters 22249','rb')  # accuracy 90 \n",
    "training_df= pickle.load(infile)\n",
    "infile.close()"
   ]
  },
  {
   "cell_type": "markdown",
   "metadata": {},
   "source": [
    "import pickle\n",
    "infile = open('clean_content with new filters 86916','rb') # accuracy 64\n",
    "training_df= pickle.load(infile)\n",
    "infile.close()"
   ]
  },
  {
   "cell_type": "markdown",
   "metadata": {},
   "source": [
    "from sklearn.preprocessing import LabelEncoder\n",
    "y = y_train\n",
    "lb=LabelEncoder()\n",
    "y_train=lb.fit_transform(y)"
   ]
  },
  {
   "cell_type": "markdown",
   "metadata": {},
   "source": [
    "from sklearn.preprocessing import LabelEncoder\n",
    "y = y_test\n",
    "lb=LabelEncoder()\n",
    "y_test=lb.fit_transform(y)"
   ]
  },
  {
   "cell_type": "markdown",
   "metadata": {},
   "source": [
    "# choose any of the two vectorization method"
   ]
  },
  {
   "cell_type": "code",
   "execution_count": 37,
   "metadata": {},
   "outputs": [
    {
     "name": "stdout",
     "output_type": "stream",
     "text": [
      "After resampling of text (205260, 47333)\n",
      "After resampling of label (205260,)\n"
     ]
    }
   ],
   "source": [
    "# create a count vectorizer object \n",
    "from sklearn.feature_extraction.text import CountVectorizer\n",
    "count_vect = CountVectorizer(analyzer='word',stop_words='english', ngram_range= (1, 1), max_features= None)#ngram_range= (1, 4)\n",
    "count_vect.fit(training_df['clean_content'])\n",
    "\n",
    "# transform the text data using count vectorizer object\n",
    "text =  count_vect.transform(training_df['clean_content'])\n",
    "\n",
    "from sklearn.preprocessing import LabelEncoder\n",
    "y = training_df['sentiment']\n",
    "lb=LabelEncoder()\n",
    "label=lb.fit_transform(y)\n",
    "\n",
    "from imblearn.over_sampling import RandomOverSampler\n",
    "ros = RandomOverSampler(random_state=1,sampling_strategy='auto')\n",
    "X_resampled, y_resampled = ros.fit_resample(text, label)\n",
    "print(\"After resampling of text\", X_resampled.shape)\n",
    "print(\"After resampling of label\", y_resampled.shape)"
   ]
  },
  {
   "cell_type": "code",
   "execution_count": null,
   "metadata": {},
   "outputs": [],
   "source": [
    "# examine the vocabulary and document-term matrix together\n",
    "pd.DataFrame(text.toarray(), columns=vect.get_feature_names())"
   ]
  },
  {
   "cell_type": "code",
   "execution_count": 58,
   "metadata": {},
   "outputs": [
    {
     "data": {
      "text/plain": [
       "47333"
      ]
     },
     "execution_count": 58,
     "metadata": {},
     "output_type": "execute_result"
    }
   ],
   "source": [
    "# display vocabulary lenght\n",
    "vocab_tokens = count_vect.get_feature_names()\n",
    "len(vocab_tokens)"
   ]
  },
  {
   "cell_type": "code",
   "execution_count": 47,
   "metadata": {},
   "outputs": [
    {
     "name": "stdout",
     "output_type": "stream",
     "text": [
      "['aa', 'aaberg', 'aac', 'aafternoon', 'aaggess', 'aaggh', 'aagh', 'aah', 'aahaha', 'aahahah', 'aahh', 'aahhg', 'aahs', 'aaiiee', 'aaliyah', 'aaliyamulla', 'aall', 'aamazing', 'aamu', 'aand', 'aannd', 'aanndd', 'aaoouoouoouu', 'aap', 'aapko', 'aarg', 'aargh', 'aaron', 'aaronmacgruder', 'aaronovitch', 'aarrggh', 'aarrgghh', 'aarrgh', 'aaryn', 'aasahan', 'aasman', 'aass', 'aatw', 'aau', 'aauugghh', 'aaw', 'aawesome', 'aawh', 'aawhh', 'aaww', 'aawwesome', 'ab', 'aba', 'ababa', 'aback']\n"
     ]
    }
   ],
   "source": [
    "# examine the first 50 tokens\n",
    "print(X_train_tokens[0:50])"
   ]
  },
  {
   "cell_type": "code",
   "execution_count": 61,
   "metadata": {},
   "outputs": [
    {
     "name": "stdout",
     "output_type": "stream",
     "text": [
      "['zone', 'zoned', 'zoneing', 'zones', 'zongzi', 'zoning', 'zonisamide', 'zoo', 'zookeeper', 'zoom', 'zoombezi', 'zoomed', 'zooming', 'zooms', 'zooted', 'zoozoo', 'zorn', 'zorz', 'zotz', 'zq', 'zqixd', 'zr', 'zrgrizz', 'zrs', 'zs', 'zsg', 'zsu', 'zu', 'zucchini', 'zuccini', 'zukav', 'zuko', 'zul', 'zulema', 'zulu', 'zum', 'zuma', 'zumba', 'zune', 'zur', 'zurich', 'zwarte', 'zwitschert', 'zx', 'zxe', 'zycuodiwkz', 'zydrate', 'zyrtec', 'zz', 'zzy']\n"
     ]
    }
   ],
   "source": [
    "# examine the last 50 tokens\n",
    "print(X_train_tokens[-50:])"
   ]
  },
  {
   "cell_type": "markdown",
   "metadata": {},
   "source": [
    "# HashingVectorizer"
   ]
  },
  {
   "cell_type": "code",
   "execution_count": null,
   "metadata": {},
   "outputs": [],
   "source": [
    "from sklearn.feature_extraction.text import HashingVectorizer\n",
    "hash_vectorizer = HashingVectorizer(analyzer='word',stop_words='english', ngram_range= (1, 2))\n",
    "X = hash_vectorizer.fit_transform(training_df['clean_content'])\n",
    "\n",
    "# transform the text data using count vectorizer object\n",
    "text = hash_vectorizer.transform(training_df['clean_content'])\n",
    "\n",
    "\n",
    "from sklearn.preprocessing import LabelEncoder\n",
    "y = training_df['sentiment']\n",
    "lb=LabelEncoder()\n",
    "label=lb.fit_transform(y)\n",
    "\n",
    "\n",
    "from imblearn.over_sampling import RandomOverSampler\n",
    "ros = RandomOverSampler(random_state=1,sampling_strategy='auto')\n",
    "X_resampled, y_resampled = ros.fit_resample(text, label)\n",
    "print(\"After resampling of text\", X_resampled.shape)\n",
    "print(\"After resampling of label\", y_resampled.shape)"
   ]
  },
  {
   "cell_type": "markdown",
   "metadata": {},
   "source": [
    "# choose any of the two sample spliting method"
   ]
  },
  {
   "cell_type": "code",
   "execution_count": null,
   "metadata": {},
   "outputs": [],
   "source": [
    "from sklearn.model_selection import StratifiedKFold\n",
    "X= X_resampled\n",
    "y= y_resampled\n",
    "skf = StratifiedKFold(n_splits=30,shuffle=True, random_state=True)\n",
    "skf.get_n_splits(X, y)\n",
    "\n",
    "print(skf)\n",
    "\n",
    "for train_index, test_index in skf.split(X, y):\n",
    "    print(\"TRAIN:\", train_index, \"TEST:\", test_index)\n",
    "    X_train, X_test = X[train_index], X[test_index]\n",
    "    y_train, y_test = y[train_index], y[test_index]"
   ]
  },
  {
   "cell_type": "code",
   "execution_count": 41,
   "metadata": {},
   "outputs": [
    {
     "name": "stdout",
     "output_type": "stream",
     "text": [
      "Traning set dim (143682, 47333) |Type   <class 'scipy.sparse.csr.csr_matrix'>\n",
      "Train label     (143682,)         |Type   <class 'numpy.ndarray'>\n",
      "Test set dim    (61578, 47333)  |Type   <class 'scipy.sparse.csr.csr_matrix'>\n",
      "Test label      (61578,)          |Type   <class 'numpy.ndarray'>\n"
     ]
    }
   ],
   "source": [
    "from sklearn.model_selection import train_test_split\n",
    "X_train, X_test, y_train, y_test = train_test_split(X_resampled,y_resampled,test_size=0.3, random_state=100)\n",
    "\n",
    "print(\"Traning set dim\",X_train.shape,\"|Type  \", type(X_train))\n",
    "print(\"Train label    \",y_train.shape,\"        |Type  \", type(y_train))\n",
    "print(\"Test set dim   \",X_test.shape,\" |Type  \", type(X_test))\n",
    "print(\"Test label     \",y_test.shape,\"         |Type  \", type(y_test))"
   ]
  },
  {
   "cell_type": "code",
   "execution_count": 42,
   "metadata": {},
   "outputs": [
    {
     "name": "stderr",
     "output_type": "stream",
     "text": [
      "C:\\Users\\In Christ alone\\Anaconda3\\lib\\site-packages\\sklearn\\linear_model\\stochastic_gradient.py:561: ConvergenceWarning: Maximum number of iteration reached before convergence. Consider increasing max_iter to improve the fit.\n",
      "  ConvergenceWarning)\n"
     ]
    }
   ],
   "source": [
    "text_clf = Pipeline([('clf_svm', OneVsRestClassifier(SGDClassifier(loss='hinge', \n",
    "                                                                   penalty = 'elasticnet', \n",
    "                                                                   alpha= 1e-5, max_iter = 100, \n",
    "                                                                   tol= 1e-5, random_state=0))),])\n",
    "                                           \n",
    "#OneVsRestClassifier\n",
    "#('vect', CountVectorizer(stop_words='english', ngram_range= (1, 4), max_features= None)),\n",
    "# ('fetur_selet', SelectKBest(mutual_info_regression, k='all')),\n",
    "_ = text_clf.fit(X_train,y_train)"
   ]
  },
  {
   "cell_type": "code",
   "execution_count": null,
   "metadata": {},
   "outputs": [],
   "source": [
    "with open('SGD_Model.pickle', 'wb') as f:\n",
    "    pickle.dump(text_clf, f)\n",
    "\n",
    "\n",
    "y = label_binarize(y_test, classes=[0,1,2,3])\n",
    "n_classes = 4\n",
    "\n",
    "\n",
    "# classifier\n",
    "y_score = text_clf.fit(X_train, y_train).decision_function(X_test)\n",
    "\n",
    "# Compute ROC curve and ROC area for each class\n",
    "fpr = dict()\n",
    "tpr = dict()\n",
    "roc_auc = dict()\n",
    "y_test_dummies = pd.get_dummies(y_test, drop_first=False).values\n",
    "for i in range(n_classes):\n",
    "    fpr[i], tpr[i], _ = roc_curve(y_test_dummies[:, i], y_score[:, i])\n",
    "    roc_auc[i] = auc(fpr[i], tpr[i])\n",
    "\n",
    "# Plot of a ROC curve for a specific class\n",
    "for i in range(n_classes):\n",
    "        plt.figure()\n",
    "        plt.plot(fpr[i], tpr[i], label='ROC curve (area = %0.2f)' % roc_auc[i])\n",
    "        plt.plot([0, 1], [0, 1], 'k--')\n",
    "        plt.xlim([0.0, 1.0])\n",
    "        plt.ylim([0.0, 1.05])\n",
    "        plt.xlabel('False Positive Rate')\n",
    "        plt.ylabel('True Positive Rate')\n",
    "        if i==0:\n",
    "            j='Happy'\n",
    "        elif i==1:\n",
    "            j='Hate'\n",
    "        elif i==2:\n",
    "            j='Neutral'\n",
    "        else:\n",
    "            j='Sadness'\n",
    "            \n",
    "        plt.title('Receiver operating characteristic of : '+j)\n",
    "        plt.legend(loc=\"lower right\")\n",
    "        plt.show()"
   ]
  },
  {
   "cell_type": "code",
   "execution_count": null,
   "metadata": {},
   "outputs": [],
   "source": [
    "from yellowbrick.model_selection import LearningCurve\n",
    "\n",
    "# Instantiate the mlp model and visualizer\n",
    "visualizer = LearningCurve(text_clf, scoring='accuracy')\n",
    "\n",
    "visualizer.fit(X_train,y_train)        # Fit the data to the visualizer\n",
    "visualizer.show()  "
   ]
  },
  {
   "cell_type": "code",
   "execution_count": null,
   "metadata": {},
   "outputs": [],
   "source": [
    "# precision-recall curve and f1\n",
    "from sklearn.calibration import CalibratedClassifierCV\n",
    "from sklearn.metrics import precision_recall_curve\n",
    "from sklearn.metrics import average_precision_score\n",
    "from sklearn.metrics import f1_score\n",
    "from sklearn.metrics import auc\n",
    "from matplotlib import pyplot\n",
    "\n",
    "Y = label_binarize(y_test, classes=[0, 1, 2, 3])\n",
    "n_classes = Y.shape[1]\n",
    "\n",
    "# classifier\n",
    "y_score = text_clf.decision_function(X_test)\n",
    "\n",
    "# For each class\n",
    "precision = dict()\n",
    "recall = dict()\n",
    "average_precision = dict()\n",
    "\n",
    "y_test_dummies = pd.get_dummies(y_test, drop_first=False).values\n",
    "for i in range(n_classes):\n",
    "    precision[i], recall[i], _ = precision_recall_curve(y_test_dummies[:, i], y_score[:, i])\n",
    "    average_precision[i] = average_precision_score(y_test_dummies[:, i], y_score[:, i])\n",
    "\n",
    "    # A \"micro-average\": quantifying score on all classes jointly\n",
    "precision[\"micro\"], recall[\"micro\"], _ = precision_recall_curve(y_test_dummies.ravel(), y_score.ravel())\n",
    "average_precision[\"micro\"] = average_precision_score(y_test_dummies, y_score, average=\"micro\")\n",
    "print('Average precision score, micro-averaged over all classes: {0:0.2f}'.format(average_precision[\"micro\"]))\n",
    "\n",
    "\n",
    "plt.figure(figsize=(10,9))\n",
    "plt.step(recall['micro'], precision['micro'], where='post',label='Precision recall')\n",
    "plt.xlabel('Recall',)\n",
    "plt.ylabel('Precision')\n",
    "plt.legend(loc=\"best\",fontsize='x-large')\n",
    "plt.ylim([0.0, 1.05])\n",
    "plt.xlim([0.0, 1.0])\n",
    "plt.title('Average precision score, micro-averaged over all classes: AP={0:0.2f}'.format(average_precision[\"micro\"]))"
   ]
  },
  {
   "cell_type": "code",
   "execution_count": null,
   "metadata": {},
   "outputs": [],
   "source": [
    "# roc curve\n",
    "fpr = dict()\n",
    "tpr = dict()\n",
    "y_test_dummies = pd.get_dummies(y_test, drop_first=False).values\n",
    "plt.figure(figsize=(15,8))\n",
    "for i in range(n_classes):\n",
    "    fpr[i], tpr[i], _ = roc_curve(y_test_dummies[:, i],y_score[:, i])\n",
    "    plt.plot(fpr[i], tpr[i], lw=2, linestyle='solid',label='class {}'.format(i))\n",
    "    plt.plot([0, 1], [0, 1], color='navy', lw=2, linestyle='--')\n",
    "\n",
    "plt.xlim([0.0, 1.0])\n",
    "plt.ylim([0.0, 1.05])\n",
    "plt.xlabel(\"false positive rate\")\n",
    "plt.ylabel(\"true positive rate\")\n",
    "plt.legend(loc=\"best\",fontsize='x-large')\n",
    "\n",
    "plt.title(\"ROC curve\")\n",
    "\n",
    "plt.show()\n"
   ]
  },
  {
   "cell_type": "code",
   "execution_count": 64,
   "metadata": {},
   "outputs": [
    {
     "data": {
      "text/plain": [
       "0.8359316639059404"
      ]
     },
     "execution_count": 64,
     "metadata": {},
     "output_type": "execute_result"
    }
   ],
   "source": [
    "predicted_svm = text_clf.predict(X_test)\n",
    "np.mean(predicted_svm == y_test)"
   ]
  },
  {
   "cell_type": "code",
   "execution_count": 62,
   "metadata": {},
   "outputs": [
    {
     "data": {
      "text/plain": [
       "<matplotlib.axes._subplots.AxesSubplot at 0x218c9ed2c48>"
      ]
     },
     "execution_count": 62,
     "metadata": {},
     "output_type": "execute_result"
    },
    {
     "data": {
      "image/png": "[encoded data removed]",
      "text/plain": [
       "<Figure size 432x288 with 1 Axes>"
      ]
     },
     "metadata": {
      "needs_background": "light"
     },
     "output_type": "display_data"
    }
   ],
   "source": [
    "import seaborn as sns\n",
    "plt.title(\"Test labels\")\n",
    "sns.countplot(x=0,data=pd.DataFrame(y_test))"
   ]
  },
  {
   "cell_type": "code",
   "execution_count": 65,
   "metadata": {},
   "outputs": [
    {
     "data": {
      "text/plain": [
       "<matplotlib.axes._subplots.AxesSubplot at 0x30cbdbc7c88>"
      ]
     },
     "execution_count": 65,
     "metadata": {},
     "output_type": "execute_result"
    },
    {
     "data": {
      "image/png": "[encoded data removed]",
      "text/plain": [
       "<Figure size 432x288 with 1 Axes>"
      ]
     },
     "metadata": {
      "needs_background": "light"
     },
     "output_type": "display_data"
    }
   ],
   "source": [
    "plt.title(\"predicted labels\")\n",
    "sns.countplot(x=0,data=pd.DataFrame(predicted_svm))"
   ]
  },
  {
   "cell_type": "code",
   "execution_count": 66,
   "metadata": {},
   "outputs": [
    {
     "name": "stdout",
     "output_type": "stream",
     "text": [
      "              precision    recall  f1-score   support\n",
      "\n",
      "           0       0.82      0.79      0.81     15368\n",
      "           1       0.97      0.92      0.94     15448\n",
      "           2       0.74      0.88      0.80     15451\n",
      "           3       0.83      0.75      0.79     15311\n",
      "\n",
      "    accuracy                           0.84     61578\n",
      "   macro avg       0.84      0.84      0.84     61578\n",
      "weighted avg       0.84      0.84      0.84     61578\n",
      "\n"
     ]
    }
   ],
   "source": [
    "from sklearn import metrics\n",
    "print(metrics.classification_report(y_test, predicted_svm))"
   ]
  },
  {
   "cell_type": "code",
   "execution_count": null,
   "metadata": {},
   "outputs": [],
   "source": [
    "# Cross validation @  fold\n",
    "from sklearn.model_selection import cross_val_score\n",
    "\n",
    "score_pre = cross_val_score(text_clf, X_resampled, y_resampled, cv = 10, scoring = 'accuracy' )\n",
    "print(\"Cross validation accuracy :\", score_pre*100)\n",
    "print('Mean Score :', score_pre.mean())"
   ]
  },
  {
   "cell_type": "code",
   "execution_count": 67,
   "metadata": {},
   "outputs": [
    {
     "name": "stdout",
     "output_type": "stream",
     "text": [
      "Normalized confusion matrix\n",
      "[[0.82 0.01 0.08 0.09]\n",
      " [0.01 0.97 0.01 0.02]\n",
      " [0.11 0.02 0.74 0.12]\n",
      " [0.07 0.04 0.05 0.83]]\n"
     ]
    },
    {
     "data": {
      "image/png": "[encoded data removed]",
      "text/plain": [
       "<Figure size 1080x576 with 2 Axes>"
      ]
     },
     "metadata": {
      "needs_background": "light"
     },
     "output_type": "display_data"
    }
   ],
   "source": [
    "import matplotlib.pyplot as plt\n",
    "import seaborn as sns\n",
    "from sklearn.metrics import confusion_matrix\n",
    "def plot_confusion_matrix(cm, classes,\n",
    "                          normalize=True,\n",
    "                          title='Confusion matrix',\n",
    "                          cmap=plt.cm.Blues):\n",
    "    \"\"\"\n",
    "    This function prints and plots the confusion matrix.\n",
    "    Normalization can be applied by setting `normalize=True`.\n",
    "    \"\"\"\n",
    "    import itertools\n",
    "    if normalize:\n",
    "        cm = cm.astype('float') / cm.sum(axis=1)[:, np.newaxis]\n",
    "        print(\"Normalized confusion matrix\")\n",
    "    else:\n",
    "        print('Confusion matrix, without normalization')\n",
    "\n",
    "    print(cm)\n",
    "\n",
    "    plt.imshow(cm, interpolation='nearest', cmap=cmap)\n",
    "    plt.title(title)\n",
    "    plt.colorbar()\n",
    "    tick_marks = np.arange(len(classes))\n",
    "    plt.xticks(tick_marks, classes, rotation=45)\n",
    "    plt.yticks(tick_marks, classes)\n",
    "\n",
    "    fmt = '.2f' if normalize else 'd'\n",
    "    thresh = cm.max() / 2.\n",
    "    for i, j in itertools.product(range(cm.shape[0]), range(cm.shape[1])):\n",
    "        plt.text(j, i, format(cm[i, j], fmt),\n",
    "                 horizontalalignment=\"center\",\n",
    "                 color=\"white\" if cm[i, j] > thresh else \"black\")\n",
    "\n",
    "    plt.ylabel('True label')\n",
    "    plt.xlabel('Predicted label')\n",
    "    plt.tight_layout()\n",
    "    \n",
    "cnf_matrix = confusion_matrix(predicted_svm,y_test,labels= [0,1,2,3])\n",
    "np.set_printoptions(precision=2)\n",
    "\n",
    "# Plot non-normalized confusion matrix\n",
    "plt.figure(figsize=(15,8))\n",
    "plot_confusion_matrix(cnf_matrix, classes=['happy', 'Hate','neutral','Sad'],\n",
    "                      title='Confusion matrix, without normalization')"
   ]
  },
  {
   "cell_type": "code",
   "execution_count": 68,
   "metadata": {},
   "outputs": [
    {
     "name": "stdout",
     "output_type": "stream",
     "text": [
      "What his idea? Copy China and get his supporter to say his idea?\n",
      "===============================================\n",
      "sentiment is Sad\n",
      "===============================================\n",
      "There are bigger issues to solved and this stolen ideas gets praised. Is million dollar ministers capable of only such ideas??\n",
      "===============================================\n",
      "sentiment is Happy\n",
      "===============================================\n",
      "old people are demanding nowadays, and they ask why their children dumped them.\n",
      "===============================================\n",
      "sentiment is neutral\n",
      "===============================================\n",
      "your mouth stink.\n",
      "===============================================\n",
      "sentiment is neutral\n",
      "===============================================\n",
      "thats damn fucked up boi\n",
      "===============================================\n",
      "sentiment is Hate\n",
      "===============================================\n",
      "i'm going to stuff that up your sorry ass\n",
      "===============================================\n",
      "sentiment is Sad\n",
      "===============================================\n",
      "cb fuck this shit\n",
      "===============================================\n",
      "sentiment is Hate\n",
      "===============================================\n",
      "I hate to be in a train where people fart and make me feel like going to die. \n",
      "===============================================\n",
      "sentiment is Hate\n",
      "===============================================\n",
      "death\n",
      "===============================================\n",
      "sentiment is neutral\n",
      "===============================================\n",
      "hate you\n",
      "===============================================\n",
      "sentiment is Hate\n",
      "===============================================\n",
      "thank you\n",
      "===============================================\n",
      "sentiment is Happy\n",
      "===============================================\n",
      "The word ‘happy’ would lose its meaning if it were not balanced by sadness.\n",
      "===============================================\n",
      "sentiment is Sad\n",
      "===============================================\n",
      "The longer and more carefully we look at a funny story, the sadder it becomes\n",
      "===============================================\n",
      "sentiment is Sad\n",
      "===============================================\n",
      "So it’s true, when all is said and done, grief is the price we pay for love.\n",
      "===============================================\n",
      "sentiment is Sad\n",
      "===============================================\n",
      "Although it has some benefits, frequently feeling sad can impact your quality of life.\n",
      "===============================================\n",
      "sentiment is Sad\n",
      "===============================================\n",
      "You can avoid this by taking proactive measures such as focusing on improving your well-being, taking actions to be happier, and sharing your feelings with a trusted one.\n",
      "===============================================\n",
      "sentiment is Happy\n",
      "===============================================\n",
      "Relationships are like glass. Sometimes it’s better to leave them broken than try to hurt yourself putting it back together\n",
      "===============================================\n",
      "sentiment is Sad\n",
      "===============================================\n",
      "Some people are going to leave, but that’s not the end of your story. That’s the end of their part in your story\n",
      "===============================================\n",
      "sentiment is neutral\n",
      "===============================================\n",
      "If we must part forever, Give me but one kind word to think upon, And please myself with, while my heart’s breaking.\n",
      "===============================================\n",
      "sentiment is Sad\n",
      "===============================================\n",
      "kill\n",
      "===============================================\n",
      "sentiment is neutral\n",
      "===============================================\n",
      "birthday\n",
      "===============================================\n",
      "sentiment is neutral\n",
      "===============================================\n",
      "\n",
      "===============================================\n",
      "sentiment is neutral\n",
      "===============================================\n",
      "broken heart\n",
      "===============================================\n",
      "sentiment is Sad\n",
      "===============================================\n",
      "You only live once, but if you do it right, once is enough.\n",
      "===============================================\n",
      "sentiment is neutral\n",
      "===============================================\n",
      "Always forgive your enemies; nothing annoys them so much.\n",
      "===============================================\n",
      "sentiment is Hate\n",
      "===============================================\n",
      "Life is what happens when you’re busy making other plans.\n",
      "===============================================\n",
      "sentiment is Sad\n",
      "===============================================\n",
      "Never let the fear of striking out keep you from playing the game\n",
      "===============================================\n",
      "sentiment is neutral\n",
      "===============================================\n",
      "It would definitely be ideal, considering your situation\n",
      "===============================================\n",
      "sentiment is neutral\n",
      "===============================================\n",
      "Great news!\n",
      "===============================================\n",
      "sentiment is Happy\n",
      "===============================================\n",
      "It is a very generous offer\n",
      "===============================================\n",
      "sentiment is Happy\n",
      "===============================================\n",
      "Yes, it is an exciting prospect\n",
      "===============================================\n",
      "sentiment is Happy\n",
      "===============================================\n",
      "That is absolutely fascinating\n",
      "===============================================\n",
      "sentiment is Happy\n",
      "===============================================\n",
      "I can highly recommend\n",
      "===============================================\n",
      "sentiment is Happy\n",
      "===============================================\n"
     ]
    }
   ],
   "source": [
    "test_set = [\"What his idea? Copy China and get his supporter to say his idea?\",\n",
    "           \"There are bigger issues to solved and this stolen ideas gets praised. Is million dollar ministers capable of only such ideas??\",\n",
    "           \"old people are demanding nowadays, and they ask why their children dumped them.\",\n",
    "           \"your mouth stink.\",\n",
    "            \"thats damn fucked up boi\",\n",
    "            \"i'm going to stuff that up your sorry ass\",\n",
    "            \"cb fuck this shit\",\n",
    "            \"I hate to be in a train where people fart and make me feel like going to die. \",\n",
    "            \"death\",\n",
    "            \"hate you\",\n",
    "            \"thank you\",\n",
    "           \"The word ‘happy’ would lose its meaning if it were not balanced by sadness.\",\n",
    "           \"The longer and more carefully we look at a funny story, the sadder it becomes\",\n",
    "           'So it’s true, when all is said and done, grief is the price we pay for love.',\n",
    "           \"Although it has some benefits, frequently feeling sad can impact your quality of life.\",\n",
    "           \"You can avoid this by taking proactive measures such as focusing on improving your well-being, taking actions to be happier, and sharing your feelings with a trusted one.\",\n",
    "            \"Relationships are like glass. Sometimes it’s better to leave them broken than try to hurt yourself putting it back together\",\n",
    "           \"Some people are going to leave, but that’s not the end of your story. That’s the end of their part in your story\",\n",
    "           \"If we must part forever, Give me but one kind word to think upon, And please myself with, while my heart’s breaking.\",\n",
    "           \"kill\",\n",
    "           \"birthday\",\n",
    "           \"\",\n",
    "           \"broken heart\",\n",
    "            \"You only live once, but if you do it right, once is enough.\",\n",
    "            \"Always forgive your enemies; nothing annoys them so much.\",\n",
    "            \"Life is what happens when you’re busy making other plans.\",\n",
    "            \"Never let the fear of striking out keep you from playing the game\",\n",
    "            \"It would definitely be ideal, considering your situation\",\n",
    "            \"Great news!\",\n",
    "            \"It is a very generous offer\",\n",
    "            \"Yes, it is an exciting prospect\",\n",
    "            \"That is absolutely fascinating\",\n",
    "            \"I can highly recommend\"\n",
    "           ]\n",
    "\n",
    "for text in test_set:\n",
    "    print(text)\n",
    "    print(\"===============================================\")\n",
    "    text =  count_vect.transform([text]) # if using count vectorizor\n",
    "    #text = vectorizer.transform([text]) # if using count hash vectorizor\n",
    "    pred=text_clf.predict(text)\n",
    "    if pred== 0:\n",
    "          print(\"sentiment is Happy\")\n",
    "    elif pred == 1:\n",
    "          print(\"sentiment is Hate\")\n",
    "    elif pred == 2:\n",
    "          print(\"sentiment is neutral\")    \n",
    "    elif pred == 3:\n",
    "          print(\"sentiment is Sad\")  \n",
    "    print(\"===============================================\")"
   ]
  },
  {
   "cell_type": "markdown",
   "metadata": {},
   "source": [
    "# final test with git commit message"
   ]
  },
  {
   "cell_type": "code",
   "execution_count": 54,
   "metadata": {},
   "outputs": [],
   "source": [
    "commit_df = pd.read_csv('clean FOR TEST.csv', encoding= 'iso-8859-1')"
   ]
  },
  {
   "cell_type": "code",
   "execution_count": null,
   "metadata": {},
   "outputs": [],
   "source": [
    "commit_df['clean_content'] = commit_df['content'].progress_apply(review_to_words)\n",
    "commit_df.rename(columns = {'clean_review':'review'},inplace = True)\n",
    "commit_df.head()"
   ]
  },
  {
   "cell_type": "code",
   "execution_count": null,
   "metadata": {},
   "outputs": [],
   "source": [
    "commit_df['length_content'] = commit_df['clean_content'].str.split().apply(len)\n",
    "commit_df = commit_df.drop(commit_df[commit_df.length_content < 1].index)\n",
    "commit_df"
   ]
  },
  {
   "cell_type": "code",
   "execution_count": 55,
   "metadata": {},
   "outputs": [],
   "source": [
    "commit_text= commit_df['clean_content']\n",
    "target= commit_df['sentiment']"
   ]
  },
  {
   "cell_type": "code",
   "execution_count": 56,
   "metadata": {},
   "outputs": [
    {
     "data": {
      "text/plain": [
       "0.8831598020898858"
      ]
     },
     "execution_count": 56,
     "metadata": {},
     "output_type": "execute_result"
    }
   ],
   "source": [
    "# transform the text data using count vectorizer object\n",
    "text =  count_vect.transform(commit_df['clean_content'])\n",
    "#text = vectorizer.transform(commit_df['clean_content']) # if using count hash vectorizor\n",
    "    \n",
    "from sklearn.preprocessing import LabelEncoder\n",
    "y = target\n",
    "lb=LabelEncoder()\n",
    "label=lb.fit_transform(y)\n",
    "\n",
    "\n",
    "predicted_svm = text_clf.predict(text)\n",
    "np.mean(predicted_svm == label)"
   ]
  },
  {
   "cell_type": "code",
   "execution_count": 57,
   "metadata": {},
   "outputs": [
    {
     "name": "stdout",
     "output_type": "stream",
     "text": [
      "              precision    recall  f1-score   support\n",
      "\n",
      "           0       0.82      0.88      0.85     21807\n",
      "           1       0.95      0.99      0.97     49051\n",
      "           2       0.88      0.61      0.72     15930\n",
      "           3       0.79      0.84      0.81     19725\n",
      "\n",
      "    accuracy                           0.88    106513\n",
      "   macro avg       0.86      0.83      0.84    106513\n",
      "weighted avg       0.88      0.88      0.88    106513\n",
      "\n"
     ]
    }
   ],
   "source": [
    "from sklearn import metrics\n",
    "print(metrics.classification_report(predicted_svm, label))"
   ]
  },
  {
   "cell_type": "markdown",
   "metadata": {},
   "source": [
    "# GRID SERACH AND RANDOM SEARCH FOR HYPERMETER TUNING"
   ]
  },
  {
   "cell_type": "code",
   "execution_count": null,
   "metadata": {},
   "outputs": [],
   "source": [
    "#         Peter Prettenhofer <peter.prettenhofer@gmail.com>\n",
    "#         Mathieu Blondel <mathieu@mblondel.org>\n",
    "# License: BSD 3 clause\n",
    "\n",
    "from pprint import pprint\n",
    "from time import time\n",
    "import logging\n",
    "\n",
    "from sklearn.feature_extraction.text import CountVectorizer\n",
    "from sklearn.feature_extraction.text import TfidfTransformer\n",
    "from sklearn.linear_model import SGDClassifier\n",
    "from sklearn.model_selection import GridSearchCV\n",
    "from sklearn.pipeline import Pipeline\n",
    "\n",
    "\n",
    "pipeline = Pipeline([('vect', CountVectorizer()),('tfidf', TfidfTransformer()),('clf-svm', SGDClassifier()),])\n",
    "\n",
    "parameters = {'vect__max_df': (0.2, 0.5, 0.75, 1.0), 'vect__max_features': (None, 5000, 10000, 50000),\n",
    "              'vect__ngram_range': ((1, 1), (1, 2),(1, 3)), 'clf-svm__alpha': (0.01, 0.001),\n",
    "              'clf-svm__penalty': ('l2', 'elasticnet'),\n",
    "             'clf-svm__max_iter': (10, 50, 80),'tfidf__norm': ('l1', 'l2'),'tfidf__use_idf': (True, False)}\n",
    "\n",
    "\n",
    "###   #'clf__max_iter': (10, 50, 80),  #'tfidf__norm': ('l1', 'l2'),   #'tfidf__use_idf': (True, False),\n",
    "# classifier\n",
    "grid_search = GridSearchCV(pipeline, parameters, n_jobs=-1, verbose=1)\n",
    "\n",
    "print(\"Performing grid search...\")\n",
    "print(\"pipeline:\", [name for name, _ in pipeline.steps])\n",
    "print(\"parameters:\")\n",
    "pprint(parameters)\n",
    "grid_search.fit(X_train,y_train)\n",
    "\n",
    "print(\"Best score: %0.3f\" % grid_search.best_score_)\n",
    "print(\"Best parameters set:\")\n",
    "best_parameters = grid_search.best_estimator_.get_params()\n",
    "for param_name in sorted(parameters.keys()):\n",
    "    print(\"\\t%s: %r\" % (param_name, best_parameters[param_name]))"
   ]
  },
  {
   "cell_type": "code",
   "execution_count": null,
   "metadata": {},
   "outputs": [],
   "source": [
    "from sklearn import svm\n",
    "from sklearn.ensemble import RandomForestClassifier\n",
    "from sklearn.linear_model import LogisticRegression\n",
    "\n",
    "model_params = {\n",
    "    'svm': {\n",
    "        'model': svm.SVC(gamma='auto'),\n",
    "        'params' : {\n",
    "            'C': [1,10,20],\n",
    "            'kernel': ['rbf','linear']\n",
    "        }  \n",
    "    },\n",
    "    'random_forest': {\n",
    "        'model': RandomForestClassifier(),\n",
    "        'params' : {\n",
    "            'n_estimators': [1,5,10]\n",
    "        }\n",
    "    },\n",
    "    'logistic_regression' : {\n",
    "        'model': LogisticRegression(solver='liblinear',multi_class='auto'),\n",
    "        'params': {\n",
    "            'C': [1,5,10]\n",
    "        }\n",
    "    }\n",
    "}"
   ]
  },
  {
   "cell_type": "code",
   "execution_count": null,
   "metadata": {},
   "outputs": [],
   "source": [
    "from sklearn.model_selection import RandomizedSearchCV\n",
    "scores = []\n",
    "\n",
    "for model_name, mp in model_params.items():\n",
    "    clf =  RandomizedSearchCV(mp['model'], mp['params'], cv=5, return_train_score=False)\n",
    "    clf.fit(xtrain_count,y_train)\n",
    "    scores.append({\n",
    "        'model': model_name,\n",
    "        'best_score': clf.best_score_,\n",
    "        'best_params': clf.best_params_\n",
    "    })\n",
    "df = pd.DataFrame(scores,columns=['model','best_score','best_params'])\n",
    "df "
   ]
  },
  {
   "cell_type": "code",
   "execution_count": null,
   "metadata": {},
   "outputs": [],
   "source": [
    "from sklearn.model_selection import RandomizedSearchCV\n",
    "\n",
    "\n",
    "# specify \"parameter distributions\" rather than a \"parameter grid\"\n",
    "param_dist = {'clf-svm__alpha': (0.01, 0.001),\n",
    "              'clf-svm__penalty': ('l1','l2', 'elasticnet'),\n",
    "             'clf-svm__max_iter': (10, 50, 80),\n",
    "             'clf-svm__loss': ('hinge','log', 'modified_huber', 'squared_hinge', 'perceptron')}\n",
    "\n",
    "\n",
    "# n_iter controls the number of searches\n",
    "rand = RandomizedSearchCV(text_clf, param_dist, cv=10, scoring='accuracy', n_iter=10, random_state=5, return_train_score=False)\n",
    "rand.fit(X_resampled, y_resampled)\n",
    "pd.DataFrame(rand.cv_results_)[['mean_test_score', 'std_test_score', 'params']]\n",
    "\n",
    "# examine the best model\n",
    "print(rand.best_score_)\n",
    "print(rand.best_params_)"
   ]
  },
  {
   "cell_type": "code",
   "execution_count": null,
   "metadata": {},
   "outputs": [],
   "source": [
    "# run RandomizedSearchCV 20 times (with n_iter=10) and record the best score\n",
    "best_scores = []\n",
    "for _ in range(20):\n",
    "    rand = RandomizedSearchCV(knn, param_dist, cv=10, scoring='accuracy', n_iter=10, return_train_score=False)\n",
    "    rand.fit(X, y)\n",
    "    best_scores.append(round(rand.best_score_, 3))\n",
    "print(best_scores)"
   ]
  },
  {
   "cell_type": "markdown",
   "metadata": {},
   "source": [
    "# other codes"
   ]
  },
  {
   "cell_type": "code",
   "execution_count": null,
   "metadata": {},
   "outputs": [],
   "source": [
    "test_set = [\"What his idea? Copy China and get his supporter to say his idea?\",\n",
    "           \"There are bigger issues to solved and this stolen ideas gets praised. Is million dollar ministers capable of only such ideas??\",\n",
    "           \"old people are demanding nowadays, and they ask why their children dumped them.\",\n",
    "           \"your mouth stink.\",\n",
    "            \"thats damn fucked up boi\",\n",
    "            \"i'm going to stuff that up your sorry ass\",\n",
    "            \"cb fuck this shit\",\n",
    "            \"I hate to be in a train where people fart and make me feel like going to die. \",\n",
    "            \"death\",\n",
    "            \"hate you\",\n",
    "            \"thank you\",\n",
    "           \"The word ‘happy’ would lose its meaning if it were not balanced by sadness.\",\n",
    "           \"The longer and more carefully we look at a funny story, the sadder it becomes\",\n",
    "           'So it’s true, when all is said and done, grief is the price we pay for love.',\n",
    "           \"Although it has some benefits, frequently feeling sad can impact your quality of life.\",\n",
    "           \"You can avoid this by taking proactive measures such as focusing on improving your well-being, taking actions to be happier, and sharing your feelings with a trusted one.\",\n",
    "            \"Relationships are like glass. Sometimes it’s better to leave them broken than try to hurt yourself putting it back together\",\n",
    "           \"Some people are going to leave, but that’s not the end of your story. That’s the end of their part in your story\",\n",
    "           \"If we must part forever, Give me but one kind word to think upon, And please myself with, while my heart’s breaking.\",\n",
    "           \"kill\",\n",
    "           \"birthday\",\n",
    "           \"\",\n",
    "           \"broken heart\",\n",
    "            \"You only live once, but if you do it right, once is enough.\",\n",
    "            \"Always forgive your enemies; nothing annoys them so much.\",\n",
    "            \"Life is what happens when you’re busy making other plans.\",\n",
    "            \"Never let the fear of striking out keep you from playing the game\",\n",
    "            \"It would definitely be ideal, considering your situation\",\n",
    "            \"Great news!\",\n",
    "            \"It is a very generous offer\",\n",
    "            \"Yes, it is an exciting prospect\",\n",
    "            \"That is absolutely fascinating\",\n",
    "            \"I can highly recommend\"\n",
    "           ]\n",
    "\n",
    "for text in test_set:\n",
    "    print(text)\n",
    "    print(\"===============================================\")\n",
    "    text =  count_vect.transform([text]) # if using count vectorizor\n",
    "    #text = vectorizer.transform([text]) # if using count hash vectorizor\n",
    "    pred=text_clf.predict(text)\n",
    "    if pred== 0:\n",
    "          print(\"sentiment is ANGER\")\n",
    "    elif pred == 1:\n",
    "          print(\"sentiment is HATE\")\n",
    "    elif pred == 2:\n",
    "          print(\"sentiment is JOY\")    \n",
    "    elif pred == 3:\n",
    "          print(\"sentiment is NEU\") \n",
    "    elif pred == 4:\n",
    "          print(\"sentiment is SADNESS\")  \n",
    "    print(\"===============================================\")"
   ]
  }
 ],
 "metadata": {
  "kernelspec": {
   "display_name": "Python 3",
   "language": "python",
   "name": "python3"
  },
  "language_info": {
   "codemirror_mode": {
    "name": "ipython",
    "version": 3
   },
   "file_extension": ".py",
   "mimetype": "text/x-python",
   "name": "python",
   "nbconvert_exporter": "python",
   "pygments_lexer": "ipython3",
   "version": "3.7.4"
  }
 },
 "nbformat": 4,
 "nbformat_minor": 2
}
